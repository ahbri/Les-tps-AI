{
  "nbformat": 4,
  "nbformat_minor": 0,
  "metadata": {
    "colab": {
      "provenance": [],
      "authorship_tag": "ABX9TyPoV3jgZbQIfAwg8a3ORIyn",
      "include_colab_link": true
    },
    "kernelspec": {
      "name": "python3",
      "display_name": "Python 3"
    },
    "language_info": {
      "name": "python"
    }
  },
  "cells": [
    {
      "cell_type": "markdown",
      "metadata": {
        "id": "view-in-github",
        "colab_type": "text"
      },
      "source": [
        "<a href=\"https://colab.research.google.com/github/ahbri/Les-tps-AI/blob/main/TP4.ipynb\" target=\"_parent\"><img src=\"https://colab.research.google.com/assets/colab-badge.svg\" alt=\"Open In Colab\"/></a>"
      ]
    },
    {
      "cell_type": "markdown",
      "source": [
        "#**Regression multiple**\n",
        "\n"
      ],
      "metadata": {
        "id": "B_BnzrHXKHly"
      }
    },
    {
      "cell_type": "code",
      "source": [
        "# charger un ensemble de données à partir d'un fichier CSV nommé 'data.csv' dans un DataFrame pandas en utilisant pd.read_csv()\n",
        "# et afficher les cinq premières lignes avec la fonction head()\n",
        "import numpy as np\n",
        "import pandas as pd\n",
        "cars_dataset=pd.read_csv('data.csv')\n",
        "cars_dataset.head()"
      ],
      "metadata": {
        "colab": {
          "base_uri": "https://localhost:8080/",
          "height": 206
        },
        "id": "7b3UFo5mKWuS",
        "outputId": "23fcb167-9c2c-4368-bb35-cfa121477ddb"
      },
      "execution_count": null,
      "outputs": [
        {
          "output_type": "execute_result",
          "data": {
            "text/plain": [
              "          Car       Model  Volume  Weight  CO2\n",
              "0      Toyoty        Aygo    1000     790   99\n",
              "1  Mitsubishi  Space Star    1200    1160   95\n",
              "2       Skoda      Citigo    1000     929   95\n",
              "3        Fiat         500     900     865   90\n",
              "4        Mini      Cooper    1500    1140  105"
            ],
            "text/html": [
              "\n",
              "  <div id=\"df-ad61b278-ba22-49b1-b849-9389ff8430a5\" class=\"colab-df-container\">\n",
              "    <div>\n",
              "<style scoped>\n",
              "    .dataframe tbody tr th:only-of-type {\n",
              "        vertical-align: middle;\n",
              "    }\n",
              "\n",
              "    .dataframe tbody tr th {\n",
              "        vertical-align: top;\n",
              "    }\n",
              "\n",
              "    .dataframe thead th {\n",
              "        text-align: right;\n",
              "    }\n",
              "</style>\n",
              "<table border=\"1\" class=\"dataframe\">\n",
              "  <thead>\n",
              "    <tr style=\"text-align: right;\">\n",
              "      <th></th>\n",
              "      <th>Car</th>\n",
              "      <th>Model</th>\n",
              "      <th>Volume</th>\n",
              "      <th>Weight</th>\n",
              "      <th>CO2</th>\n",
              "    </tr>\n",
              "  </thead>\n",
              "  <tbody>\n",
              "    <tr>\n",
              "      <th>0</th>\n",
              "      <td>Toyoty</td>\n",
              "      <td>Aygo</td>\n",
              "      <td>1000</td>\n",
              "      <td>790</td>\n",
              "      <td>99</td>\n",
              "    </tr>\n",
              "    <tr>\n",
              "      <th>1</th>\n",
              "      <td>Mitsubishi</td>\n",
              "      <td>Space Star</td>\n",
              "      <td>1200</td>\n",
              "      <td>1160</td>\n",
              "      <td>95</td>\n",
              "    </tr>\n",
              "    <tr>\n",
              "      <th>2</th>\n",
              "      <td>Skoda</td>\n",
              "      <td>Citigo</td>\n",
              "      <td>1000</td>\n",
              "      <td>929</td>\n",
              "      <td>95</td>\n",
              "    </tr>\n",
              "    <tr>\n",
              "      <th>3</th>\n",
              "      <td>Fiat</td>\n",
              "      <td>500</td>\n",
              "      <td>900</td>\n",
              "      <td>865</td>\n",
              "      <td>90</td>\n",
              "    </tr>\n",
              "    <tr>\n",
              "      <th>4</th>\n",
              "      <td>Mini</td>\n",
              "      <td>Cooper</td>\n",
              "      <td>1500</td>\n",
              "      <td>1140</td>\n",
              "      <td>105</td>\n",
              "    </tr>\n",
              "  </tbody>\n",
              "</table>\n",
              "</div>\n",
              "    <div class=\"colab-df-buttons\">\n",
              "\n",
              "  <div class=\"colab-df-container\">\n",
              "    <button class=\"colab-df-convert\" onclick=\"convertToInteractive('df-ad61b278-ba22-49b1-b849-9389ff8430a5')\"\n",
              "            title=\"Convert this dataframe to an interactive table.\"\n",
              "            style=\"display:none;\">\n",
              "\n",
              "  <svg xmlns=\"http://www.w3.org/2000/svg\" height=\"24px\" viewBox=\"0 -960 960 960\">\n",
              "    <path d=\"M120-120v-720h720v720H120Zm60-500h600v-160H180v160Zm220 220h160v-160H400v160Zm0 220h160v-160H400v160ZM180-400h160v-160H180v160Zm440 0h160v-160H620v160ZM180-180h160v-160H180v160Zm440 0h160v-160H620v160Z\"/>\n",
              "  </svg>\n",
              "    </button>\n",
              "\n",
              "  <style>\n",
              "    .colab-df-container {\n",
              "      display:flex;\n",
              "      gap: 12px;\n",
              "    }\n",
              "\n",
              "    .colab-df-convert {\n",
              "      background-color: #E8F0FE;\n",
              "      border: none;\n",
              "      border-radius: 50%;\n",
              "      cursor: pointer;\n",
              "      display: none;\n",
              "      fill: #1967D2;\n",
              "      height: 32px;\n",
              "      padding: 0 0 0 0;\n",
              "      width: 32px;\n",
              "    }\n",
              "\n",
              "    .colab-df-convert:hover {\n",
              "      background-color: #E2EBFA;\n",
              "      box-shadow: 0px 1px 2px rgba(60, 64, 67, 0.3), 0px 1px 3px 1px rgba(60, 64, 67, 0.15);\n",
              "      fill: #174EA6;\n",
              "    }\n",
              "\n",
              "    .colab-df-buttons div {\n",
              "      margin-bottom: 4px;\n",
              "    }\n",
              "\n",
              "    [theme=dark] .colab-df-convert {\n",
              "      background-color: #3B4455;\n",
              "      fill: #D2E3FC;\n",
              "    }\n",
              "\n",
              "    [theme=dark] .colab-df-convert:hover {\n",
              "      background-color: #434B5C;\n",
              "      box-shadow: 0px 1px 3px 1px rgba(0, 0, 0, 0.15);\n",
              "      filter: drop-shadow(0px 1px 2px rgba(0, 0, 0, 0.3));\n",
              "      fill: #FFFFFF;\n",
              "    }\n",
              "  </style>\n",
              "\n",
              "    <script>\n",
              "      const buttonEl =\n",
              "        document.querySelector('#df-ad61b278-ba22-49b1-b849-9389ff8430a5 button.colab-df-convert');\n",
              "      buttonEl.style.display =\n",
              "        google.colab.kernel.accessAllowed ? 'block' : 'none';\n",
              "\n",
              "      async function convertToInteractive(key) {\n",
              "        const element = document.querySelector('#df-ad61b278-ba22-49b1-b849-9389ff8430a5');\n",
              "        const dataTable =\n",
              "          await google.colab.kernel.invokeFunction('convertToInteractive',\n",
              "                                                    [key], {});\n",
              "        if (!dataTable) return;\n",
              "\n",
              "        const docLinkHtml = 'Like what you see? Visit the ' +\n",
              "          '<a target=\"_blank\" href=https://colab.research.google.com/notebooks/data_table.ipynb>data table notebook</a>'\n",
              "          + ' to learn more about interactive tables.';\n",
              "        element.innerHTML = '';\n",
              "        dataTable['output_type'] = 'display_data';\n",
              "        await google.colab.output.renderOutput(dataTable, element);\n",
              "        const docLink = document.createElement('div');\n",
              "        docLink.innerHTML = docLinkHtml;\n",
              "        element.appendChild(docLink);\n",
              "      }\n",
              "    </script>\n",
              "  </div>\n",
              "\n",
              "\n",
              "<div id=\"df-715b81d0-14cf-4c71-9803-b0e002329fa4\">\n",
              "  <button class=\"colab-df-quickchart\" onclick=\"quickchart('df-715b81d0-14cf-4c71-9803-b0e002329fa4')\"\n",
              "            title=\"Suggest charts\"\n",
              "            style=\"display:none;\">\n",
              "\n",
              "<svg xmlns=\"http://www.w3.org/2000/svg\" height=\"24px\"viewBox=\"0 0 24 24\"\n",
              "     width=\"24px\">\n",
              "    <g>\n",
              "        <path d=\"M19 3H5c-1.1 0-2 .9-2 2v14c0 1.1.9 2 2 2h14c1.1 0 2-.9 2-2V5c0-1.1-.9-2-2-2zM9 17H7v-7h2v7zm4 0h-2V7h2v10zm4 0h-2v-4h2v4z\"/>\n",
              "    </g>\n",
              "</svg>\n",
              "  </button>\n",
              "\n",
              "<style>\n",
              "  .colab-df-quickchart {\n",
              "      --bg-color: #E8F0FE;\n",
              "      --fill-color: #1967D2;\n",
              "      --hover-bg-color: #E2EBFA;\n",
              "      --hover-fill-color: #174EA6;\n",
              "      --disabled-fill-color: #AAA;\n",
              "      --disabled-bg-color: #DDD;\n",
              "  }\n",
              "\n",
              "  [theme=dark] .colab-df-quickchart {\n",
              "      --bg-color: #3B4455;\n",
              "      --fill-color: #D2E3FC;\n",
              "      --hover-bg-color: #434B5C;\n",
              "      --hover-fill-color: #FFFFFF;\n",
              "      --disabled-bg-color: #3B4455;\n",
              "      --disabled-fill-color: #666;\n",
              "  }\n",
              "\n",
              "  .colab-df-quickchart {\n",
              "    background-color: var(--bg-color);\n",
              "    border: none;\n",
              "    border-radius: 50%;\n",
              "    cursor: pointer;\n",
              "    display: none;\n",
              "    fill: var(--fill-color);\n",
              "    height: 32px;\n",
              "    padding: 0;\n",
              "    width: 32px;\n",
              "  }\n",
              "\n",
              "  .colab-df-quickchart:hover {\n",
              "    background-color: var(--hover-bg-color);\n",
              "    box-shadow: 0 1px 2px rgba(60, 64, 67, 0.3), 0 1px 3px 1px rgba(60, 64, 67, 0.15);\n",
              "    fill: var(--button-hover-fill-color);\n",
              "  }\n",
              "\n",
              "  .colab-df-quickchart-complete:disabled,\n",
              "  .colab-df-quickchart-complete:disabled:hover {\n",
              "    background-color: var(--disabled-bg-color);\n",
              "    fill: var(--disabled-fill-color);\n",
              "    box-shadow: none;\n",
              "  }\n",
              "\n",
              "  .colab-df-spinner {\n",
              "    border: 2px solid var(--fill-color);\n",
              "    border-color: transparent;\n",
              "    border-bottom-color: var(--fill-color);\n",
              "    animation:\n",
              "      spin 1s steps(1) infinite;\n",
              "  }\n",
              "\n",
              "  @keyframes spin {\n",
              "    0% {\n",
              "      border-color: transparent;\n",
              "      border-bottom-color: var(--fill-color);\n",
              "      border-left-color: var(--fill-color);\n",
              "    }\n",
              "    20% {\n",
              "      border-color: transparent;\n",
              "      border-left-color: var(--fill-color);\n",
              "      border-top-color: var(--fill-color);\n",
              "    }\n",
              "    30% {\n",
              "      border-color: transparent;\n",
              "      border-left-color: var(--fill-color);\n",
              "      border-top-color: var(--fill-color);\n",
              "      border-right-color: var(--fill-color);\n",
              "    }\n",
              "    40% {\n",
              "      border-color: transparent;\n",
              "      border-right-color: var(--fill-color);\n",
              "      border-top-color: var(--fill-color);\n",
              "    }\n",
              "    60% {\n",
              "      border-color: transparent;\n",
              "      border-right-color: var(--fill-color);\n",
              "    }\n",
              "    80% {\n",
              "      border-color: transparent;\n",
              "      border-right-color: var(--fill-color);\n",
              "      border-bottom-color: var(--fill-color);\n",
              "    }\n",
              "    90% {\n",
              "      border-color: transparent;\n",
              "      border-bottom-color: var(--fill-color);\n",
              "    }\n",
              "  }\n",
              "</style>\n",
              "\n",
              "  <script>\n",
              "    async function quickchart(key) {\n",
              "      const quickchartButtonEl =\n",
              "        document.querySelector('#' + key + ' button');\n",
              "      quickchartButtonEl.disabled = true;  // To prevent multiple clicks.\n",
              "      quickchartButtonEl.classList.add('colab-df-spinner');\n",
              "      try {\n",
              "        const charts = await google.colab.kernel.invokeFunction(\n",
              "            'suggestCharts', [key], {});\n",
              "      } catch (error) {\n",
              "        console.error('Error during call to suggestCharts:', error);\n",
              "      }\n",
              "      quickchartButtonEl.classList.remove('colab-df-spinner');\n",
              "      quickchartButtonEl.classList.add('colab-df-quickchart-complete');\n",
              "    }\n",
              "    (() => {\n",
              "      let quickchartButtonEl =\n",
              "        document.querySelector('#df-715b81d0-14cf-4c71-9803-b0e002329fa4 button');\n",
              "      quickchartButtonEl.style.display =\n",
              "        google.colab.kernel.accessAllowed ? 'block' : 'none';\n",
              "    })();\n",
              "  </script>\n",
              "</div>\n",
              "\n",
              "    </div>\n",
              "  </div>\n"
            ],
            "application/vnd.google.colaboratory.intrinsic+json": {
              "type": "dataframe",
              "variable_name": "cars_dataset",
              "summary": "{\n  \"name\": \"cars_dataset\",\n  \"rows\": 36,\n  \"fields\": [\n    {\n      \"column\": \"Car\",\n      \"properties\": {\n        \"dtype\": \"category\",\n        \"num_unique_values\": 17,\n        \"samples\": [\n          \"Toyoty\",\n          \"Mitsubishi\",\n          \"VW\"\n        ],\n        \"semantic_type\": \"\",\n        \"description\": \"\"\n      }\n    },\n    {\n      \"column\": \"Model\",\n      \"properties\": {\n        \"dtype\": \"string\",\n        \"num_unique_values\": 35,\n        \"samples\": [\n          \"A6\",\n          \"I30\",\n          \"CLA\"\n        ],\n        \"semantic_type\": \"\",\n        \"description\": \"\"\n      }\n    },\n    {\n      \"column\": \"Volume\",\n      \"properties\": {\n        \"dtype\": \"number\",\n        \"std\": 388,\n        \"min\": 900,\n        \"max\": 2500,\n        \"num_unique_values\": 12,\n        \"samples\": [\n          2100,\n          2000,\n          1000\n        ],\n        \"semantic_type\": \"\",\n        \"description\": \"\"\n      }\n    },\n    {\n      \"column\": \"Weight\",\n      \"properties\": {\n        \"dtype\": \"number\",\n        \"std\": 242,\n        \"min\": 790,\n        \"max\": 1746,\n        \"num_unique_values\": 31,\n        \"samples\": [\n          1235,\n          1119,\n          1523\n        ],\n        \"semantic_type\": \"\",\n        \"description\": \"\"\n      }\n    },\n    {\n      \"column\": \"CO2\",\n      \"properties\": {\n        \"dtype\": \"number\",\n        \"std\": 7,\n        \"min\": 90,\n        \"max\": 120,\n        \"num_unique_values\": 17,\n        \"samples\": [\n          99,\n          95,\n          98\n        ],\n        \"semantic_type\": \"\",\n        \"description\": \"\"\n      }\n    }\n  ]\n}"
            }
          },
          "metadata": {},
          "execution_count": 121
        }
      ]
    },
    {
      "cell_type": "code",
      "source": [
        "#on a extrait deux colonnes spécifiques du DataFrame cars_dataset, à savoir 'Volume' et 'Weight', pour former une nouvelle variable X.\n",
        "# Cette nouvelle variable X contient les données des colonnes 'Volume' et 'Weight' du DataFrame cars_dataset pour qu'on peut l'utiliser comme entrée\n",
        "\n",
        "X=cars_dataset[['Volume','Weight']]"
      ],
      "metadata": {
        "id": "arIrtcHmLyCx"
      },
      "execution_count": null,
      "outputs": []
    },
    {
      "cell_type": "code",
      "source": [
        "#on extrait la colonne 'CO2' de notre DataFrame cars_dataset et la stocker dans une variable Y contient les données de la colonne 'CO2'\n",
        "#de notre ensemble de données, prêtes à être utilisées comme variable cible\n",
        "\n",
        "Y=cars_dataset['CO2']"
      ],
      "metadata": {
        "id": "xBUkN5raMeED"
      },
      "execution_count": null,
      "outputs": []
    },
    {
      "cell_type": "code",
      "source": [
        "#regr = linear_model.LinearRegression(): Cette fonction crée une instance de la classe LinearRegression du module linear_model.\n",
        "# Cette classe représente un modèle de régression linéaire.\n",
        "#regr.fit(X, Y): Cette ligne ajuste le modèle de régression linéaire aux données d'entraînement.\n",
        "\n",
        "from sklearn import linear_model\n",
        "regr = linear_model.LinearRegression()\n",
        "\n"
      ],
      "metadata": {
        "id": "qiPntnoPM14t"
      },
      "execution_count": null,
      "outputs": []
    },
    {
      "cell_type": "code",
      "source": [
        "#La méthode fit() prend deux arguments : X, qui sont les caractéristiques d'entrée, et Y, qui sont les valeurs cibles correspondantes.\n",
        "#Le modèle apprend à partir de ces données d'entraînement et ajuste les paramètres pour minimiser l'erreur entre les valeurs prédites et les valeurs réelles.\n",
        "\n",
        "regr.fit(X, Y)"
      ],
      "metadata": {
        "colab": {
          "base_uri": "https://localhost:8080/",
          "height": 75
        },
        "id": "QyyFqQbKNw0w",
        "outputId": "b96dede6-1989-47c7-8314-1d616827d161"
      },
      "execution_count": null,
      "outputs": [
        {
          "output_type": "execute_result",
          "data": {
            "text/plain": [
              "LinearRegression()"
            ],
            "text/html": [
              "<style>#sk-container-id-16 {color: black;background-color: white;}#sk-container-id-16 pre{padding: 0;}#sk-container-id-16 div.sk-toggleable {background-color: white;}#sk-container-id-16 label.sk-toggleable__label {cursor: pointer;display: block;width: 100%;margin-bottom: 0;padding: 0.3em;box-sizing: border-box;text-align: center;}#sk-container-id-16 label.sk-toggleable__label-arrow:before {content: \"▸\";float: left;margin-right: 0.25em;color: #696969;}#sk-container-id-16 label.sk-toggleable__label-arrow:hover:before {color: black;}#sk-container-id-16 div.sk-estimator:hover label.sk-toggleable__label-arrow:before {color: black;}#sk-container-id-16 div.sk-toggleable__content {max-height: 0;max-width: 0;overflow: hidden;text-align: left;background-color: #f0f8ff;}#sk-container-id-16 div.sk-toggleable__content pre {margin: 0.2em;color: black;border-radius: 0.25em;background-color: #f0f8ff;}#sk-container-id-16 input.sk-toggleable__control:checked~div.sk-toggleable__content {max-height: 200px;max-width: 100%;overflow: auto;}#sk-container-id-16 input.sk-toggleable__control:checked~label.sk-toggleable__label-arrow:before {content: \"▾\";}#sk-container-id-16 div.sk-estimator input.sk-toggleable__control:checked~label.sk-toggleable__label {background-color: #d4ebff;}#sk-container-id-16 div.sk-label input.sk-toggleable__control:checked~label.sk-toggleable__label {background-color: #d4ebff;}#sk-container-id-16 input.sk-hidden--visually {border: 0;clip: rect(1px 1px 1px 1px);clip: rect(1px, 1px, 1px, 1px);height: 1px;margin: -1px;overflow: hidden;padding: 0;position: absolute;width: 1px;}#sk-container-id-16 div.sk-estimator {font-family: monospace;background-color: #f0f8ff;border: 1px dotted black;border-radius: 0.25em;box-sizing: border-box;margin-bottom: 0.5em;}#sk-container-id-16 div.sk-estimator:hover {background-color: #d4ebff;}#sk-container-id-16 div.sk-parallel-item::after {content: \"\";width: 100%;border-bottom: 1px solid gray;flex-grow: 1;}#sk-container-id-16 div.sk-label:hover label.sk-toggleable__label {background-color: #d4ebff;}#sk-container-id-16 div.sk-serial::before {content: \"\";position: absolute;border-left: 1px solid gray;box-sizing: border-box;top: 0;bottom: 0;left: 50%;z-index: 0;}#sk-container-id-16 div.sk-serial {display: flex;flex-direction: column;align-items: center;background-color: white;padding-right: 0.2em;padding-left: 0.2em;position: relative;}#sk-container-id-16 div.sk-item {position: relative;z-index: 1;}#sk-container-id-16 div.sk-parallel {display: flex;align-items: stretch;justify-content: center;background-color: white;position: relative;}#sk-container-id-16 div.sk-item::before, #sk-container-id-16 div.sk-parallel-item::before {content: \"\";position: absolute;border-left: 1px solid gray;box-sizing: border-box;top: 0;bottom: 0;left: 50%;z-index: -1;}#sk-container-id-16 div.sk-parallel-item {display: flex;flex-direction: column;z-index: 1;position: relative;background-color: white;}#sk-container-id-16 div.sk-parallel-item:first-child::after {align-self: flex-end;width: 50%;}#sk-container-id-16 div.sk-parallel-item:last-child::after {align-self: flex-start;width: 50%;}#sk-container-id-16 div.sk-parallel-item:only-child::after {width: 0;}#sk-container-id-16 div.sk-dashed-wrapped {border: 1px dashed gray;margin: 0 0.4em 0.5em 0.4em;box-sizing: border-box;padding-bottom: 0.4em;background-color: white;}#sk-container-id-16 div.sk-label label {font-family: monospace;font-weight: bold;display: inline-block;line-height: 1.2em;}#sk-container-id-16 div.sk-label-container {text-align: center;}#sk-container-id-16 div.sk-container {/* jupyter's `normalize.less` sets `[hidden] { display: none; }` but bootstrap.min.css set `[hidden] { display: none !important; }` so we also need the `!important` here to be able to override the default hidden behavior on the sphinx rendered scikit-learn.org. See: https://github.com/scikit-learn/scikit-learn/issues/21755 */display: inline-block !important;position: relative;}#sk-container-id-16 div.sk-text-repr-fallback {display: none;}</style><div id=\"sk-container-id-16\" class=\"sk-top-container\"><div class=\"sk-text-repr-fallback\"><pre>LinearRegression()</pre><b>In a Jupyter environment, please rerun this cell to show the HTML representation or trust the notebook. <br />On GitHub, the HTML representation is unable to render, please try loading this page with nbviewer.org.</b></div><div class=\"sk-container\" hidden><div class=\"sk-item\"><div class=\"sk-estimator sk-toggleable\"><input class=\"sk-toggleable__control sk-hidden--visually\" id=\"sk-estimator-id-16\" type=\"checkbox\" checked><label for=\"sk-estimator-id-16\" class=\"sk-toggleable__label sk-toggleable__label-arrow\">LinearRegression</label><div class=\"sk-toggleable__content\"><pre>LinearRegression()</pre></div></div></div></div></div>"
            ]
          },
          "metadata": {},
          "execution_count": 125
        }
      ]
    },
    {
      "cell_type": "code",
      "source": [
        "#La fonction predict utilisera le modèle entraîné pour prédire la valeur de 'CO2' pour une voiture ayant un volume de 2300 et un poids de 1300.\n",
        "predictedCO2 = regr.predict([[2300, 1300]])\n",
        "print(predictedCO2)"
      ],
      "metadata": {
        "colab": {
          "base_uri": "https://localhost:8080/"
        },
        "id": "5xjEdxbVOQZu",
        "outputId": "5b40a0d1-22e5-414a-f0f4-b9e3c1be6b15"
      },
      "execution_count": null,
      "outputs": [
        {
          "output_type": "stream",
          "name": "stdout",
          "text": [
            "[107.46304306]\n"
          ]
        },
        {
          "output_type": "stream",
          "name": "stderr",
          "text": [
            "/usr/local/lib/python3.10/dist-packages/sklearn/base.py:439: UserWarning: X does not have valid feature names, but LinearRegression was fitted with feature names\n",
            "  warnings.warn(\n"
          ]
        }
      ]
    },
    {
      "cell_type": "code",
      "source": [
        "#La méthode coef_ de l'objet de régression linéaire renvoie les coefficients de pente de chaque caractéristique dans le modèle.\n",
        "print(regr.coef_[0])   #coef de Volume\n",
        "(regr.coef_[1])        #coef de weight"
      ],
      "metadata": {
        "colab": {
          "base_uri": "https://localhost:8080/"
        },
        "id": "2_aIADGsO7r6",
        "outputId": "93daa27a-9052-4333-91dd-99ef2c55f9cd"
      },
      "execution_count": null,
      "outputs": [
        {
          "output_type": "stream",
          "name": "stdout",
          "text": [
            "0.007805257527747128\n"
          ]
        },
        {
          "output_type": "execute_result",
          "data": {
            "text/plain": [
              "0.007550947270300682"
            ]
          },
          "metadata": {},
          "execution_count": 127
        }
      ]
    },
    {
      "cell_type": "markdown",
      "source": [
        "# **Regression Polynomiale**"
      ],
      "metadata": {
        "id": "g9e8ZireSUXO"
      }
    },
    {
      "cell_type": "code",
      "source": [
        "import numpy as np\n",
        "import matplotlib.pyplot as plt\n",
        "from sklearn.datasets import make_regression\n",
        "from sklearn.preprocessing import PolynomialFeatures\n"
      ],
      "metadata": {
        "id": "jCCm0hi4Sc5w"
      },
      "execution_count": null,
      "outputs": []
    },
    {
      "cell_type": "code",
      "source": [
        "\n",
        "\n",
        "# Génération des données de regression en important la fonction datasets.make_regression\n",
        "X,y = make_regression(n_samples=100, n_features=1, random_state= 42, noise=5)\n",
        "\n",
        "# Transformer X en une fonction quadratique de X\n",
        "y=y** 2\n",
        "\n",
        "poly_feat = PolynomialFeatures(degree=2, include_bias=False)\n",
        "X= poly_feat.fit_transform(X)\n",
        "X"
      ],
      "metadata": {
        "colab": {
          "base_uri": "https://localhost:8080/"
        },
        "id": "suSLZte4S4EK",
        "outputId": "628fb347-bf61-485b-f8a6-956861f2bc31"
      },
      "execution_count": 167,
      "outputs": [
        {
          "output_type": "execute_result",
          "data": {
            "text/plain": [
              "array([[ 9.31280119e-01,  8.67282660e-01],\n",
              "       [ 8.70470682e-02,  7.57719209e-03],\n",
              "       [-1.05771093e+00,  1.11875241e+00],\n",
              "       [ 3.14247333e-01,  9.87513860e-02],\n",
              "       [-4.79174238e-01,  2.29607950e-01],\n",
              "       [ 6.47688538e-01,  4.19500442e-01],\n",
              "       [-4.63417693e-01,  2.14755958e-01],\n",
              "       [ 5.42560044e-01,  2.94371401e-01],\n",
              "       [ 6.11676289e-01,  3.74147882e-01],\n",
              "       [ 1.00353290e+00,  1.00707828e+00],\n",
              "       [ 8.21902504e-01,  6.75523727e-01],\n",
              "       [ 1.53803657e+00,  2.36555648e+00],\n",
              "       [ 7.38466580e-01,  5.45332890e-01],\n",
              "       [-2.19671888e-01,  4.82557383e-02],\n",
              "       [-8.08493603e-01,  6.53661906e-01],\n",
              "       [ 9.17607765e-02,  8.42004011e-03],\n",
              "       [-1.95967012e+00,  3.84030699e+00],\n",
              "       [ 5.13267433e-01,  2.63443458e-01],\n",
              "       [ 1.03099952e+00,  1.06296002e+00],\n",
              "       [-2.61974510e+00,  6.86306441e+00],\n",
              "       [ 4.96714153e-01,  2.46724950e-01],\n",
              "       [ 9.70775493e-02,  9.42405059e-03],\n",
              "       [-4.65729754e-01,  2.16904203e-01],\n",
              "       [ 9.15402118e-01,  8.37961037e-01],\n",
              "       [ 1.56464366e+00,  2.44810977e+00],\n",
              "       [ 1.46564877e+00,  2.14812631e+00],\n",
              "       [-6.00638690e-01,  3.60766836e-01],\n",
              "       [-3.58260391e-02,  1.28350508e-03],\n",
              "       [-6.01706612e-01,  3.62050847e-01],\n",
              "       [-1.19620662e+00,  1.43091029e+00],\n",
              "       [ 3.57112572e-01,  1.27529389e-01],\n",
              "       [ 3.75698018e-01,  1.41149001e-01],\n",
              "       [ 2.61055272e-01,  6.81498551e-02],\n",
              "       [-5.29760204e-01,  2.80645873e-01],\n",
              "       [-9.08024076e-01,  8.24507722e-01],\n",
              "       [ 1.96861236e-01,  3.87543462e-02],\n",
              "       [-2.99007350e-01,  8.94053956e-02],\n",
              "       [ 3.61636025e-01,  1.30780615e-01],\n",
              "       [ 8.22544912e-01,  6.76580132e-01],\n",
              "       [-2.91693750e-01,  8.50852437e-02],\n",
              "       [ 3.61395606e-01,  1.30606784e-01],\n",
              "       [-6.76922000e-01,  4.58223394e-01],\n",
              "       [ 1.52302986e+00,  2.31961994e+00],\n",
              "       [-5.18270218e-01,  2.68604019e-01],\n",
              "       [-2.34153375e-01,  5.48278029e-02],\n",
              "       [-3.92108153e-01,  1.53748804e-01],\n",
              "       [-3.01103696e-01,  9.06634355e-02],\n",
              "       [-6.45119755e-01,  4.16179498e-01],\n",
              "       [ 3.28751110e-01,  1.08077292e-01],\n",
              "       [ 2.08863595e-01,  4.36240013e-02],\n",
              "       [-3.27662147e-01,  1.07362482e-01],\n",
              "       [ 5.11345664e-03,  2.61474388e-05],\n",
              "       [-2.34136957e-01,  5.48201146e-02],\n",
              "       [ 1.47789404e+00,  2.18417081e+00],\n",
              "       [-3.85082280e-01,  1.48288363e-01],\n",
              "       [ 3.43618290e-01,  1.18073529e-01],\n",
              "       [ 3.31263431e-01,  1.09735461e-01],\n",
              "       [-1.85658977e-01,  3.44692556e-02],\n",
              "       [-2.34587133e-01,  5.50311231e-02],\n",
              "       [-1.98756891e+00,  3.95043019e+00],\n",
              "       [ 3.24083969e-01,  1.05030419e-01],\n",
              "       [-2.25776300e-01,  5.09749379e-02],\n",
              "       [-1.10633497e+00,  1.22397707e+00],\n",
              "       [-7.02053094e-01,  4.92878547e-01],\n",
              "       [-1.46351495e+00,  2.14187600e+00],\n",
              "       [ 9.68644991e-01,  9.38273118e-01],\n",
              "       [-1.72491783e+00,  2.97534153e+00],\n",
              "       [-1.91328024e+00,  3.66064129e+00],\n",
              "       [-5.62287529e-01,  3.16167266e-01],\n",
              "       [ 7.67434729e-01,  5.88956064e-01],\n",
              "       [ 8.12525822e-01,  6.60198212e-01],\n",
              "       [-1.41230370e+00,  1.99460174e+00],\n",
              "       [-1.47852199e+00,  2.18602728e+00],\n",
              "       [-1.22084365e+00,  1.49045922e+00],\n",
              "       [-8.39217523e-01,  7.04286051e-01],\n",
              "       [ 1.57921282e+00,  2.49391312e+00],\n",
              "       [ 9.75545127e-01,  9.51688295e-01],\n",
              "       [ 2.41962272e-01,  5.85457409e-02],\n",
              "       [ 2.96120277e-01,  8.76872185e-02],\n",
              "       [-5.44382725e-01,  2.96352551e-01],\n",
              "       [-1.76304016e+00,  3.10831059e+00],\n",
              "       [ 1.10922590e-01,  1.23038209e-02],\n",
              "       [ 1.71368281e-01,  2.93670878e-02],\n",
              "       [-1.32818605e+00,  1.76407818e+00],\n",
              "       [ 1.05712223e+00,  1.11750740e+00],\n",
              "       [-1.15648282e-01,  1.33745252e-02],\n",
              "       [-4.69474386e-01,  2.20406199e-01],\n",
              "       [-1.34972247e-02,  1.82175076e-04],\n",
              "       [-1.01283112e+00,  1.02582688e+00],\n",
              "       [-1.38264301e-01,  1.91170170e-02],\n",
              "       [-1.15099358e+00,  1.32478622e+00],\n",
              "       [ 1.35624003e+00,  1.83938702e+00],\n",
              "       [ 6.75282047e-02,  4.56005843e-03],\n",
              "       [-5.01757044e-01,  2.51760131e-01],\n",
              "       [-4.60638771e-01,  2.12188077e-01],\n",
              "       [ 1.85227818e+00,  3.43093447e+00],\n",
              "       [-1.42474819e+00,  2.02990739e+00],\n",
              "       [-7.19844208e-01,  5.18175684e-01],\n",
              "       [-7.20101216e-02,  5.18545761e-03],\n",
              "       [-3.09212376e-01,  9.56122934e-02]])"
            ]
          },
          "metadata": {},
          "execution_count": 167
        }
      ]
    },
    {
      "cell_type": "code",
      "source": [
        "#plt.scatter(X, y, color='orange', label='Données')\n",
        "\n",
        "# Ajouter des labels et un titre\n",
        "#plt.xlabel('X')\n",
        "#plt.ylabel('y')\n",
        "#plt.title('Visualisation des données de regression')\n",
        "#plt.legend()\n",
        "\n",
        "# Afficher le graphique\n",
        "#plt.show()\n",
        "plt.scatter(X[:,0],y)\n",
        "X.shape\n"
      ],
      "metadata": {
        "colab": {
          "base_uri": "https://localhost:8080/",
          "height": 447
        },
        "id": "E9uVUAa0WE67",
        "outputId": "93eaa732-ec61-45a2-f4d8-9fd248e69390"
      },
      "execution_count": 168,
      "outputs": [
        {
          "output_type": "execute_result",
          "data": {
            "text/plain": [
              "(100, 2)"
            ]
          },
          "metadata": {},
          "execution_count": 168
        },
        {
          "output_type": "display_data",
          "data": {
            "text/plain": [
              "<Figure size 640x480 with 1 Axes>"
            ],
            "image/png": "[encoded data removed]"
          },
          "metadata": {}
        }
      ]
    },
    {
      "cell_type": "code",
      "source": [
        "from sklearn.linear_model import SGDRegressor\n",
        "# Définir le modèle avec SGDRegressor\n",
        "model = SGDRegressor(max_iter=100, learning_rate='constant', eta0=0.0001)"
      ],
      "metadata": {
        "id": "yr3a--hEXhoP"
      },
      "execution_count": 169,
      "outputs": []
    },
    {
      "cell_type": "code",
      "source": [
        "\n",
        "# Entraîner le modèle sur les données\n",
        "model.fit(X, y)"
      ],
      "metadata": {
        "colab": {
          "base_uri": "https://localhost:8080/",
          "height": 129
        },
        "id": "1ywCBv2fWRez",
        "outputId": "21412342-df2e-4ab5-bc46-14301d5106c8"
      },
      "execution_count": 170,
      "outputs": [
        {
          "output_type": "stream",
          "name": "stderr",
          "text": [
            "/usr/local/lib/python3.10/dist-packages/sklearn/linear_model/_stochastic_gradient.py:1548: ConvergenceWarning: Maximum number of iteration reached before convergence. Consider increasing max_iter to improve the fit.\n",
            "  warnings.warn(\n"
          ]
        },
        {
          "output_type": "execute_result",
          "data": {
            "text/plain": [
              "SGDRegressor(eta0=0.0001, learning_rate='constant', max_iter=100)"
            ],
            "text/html": [
              "<style>#sk-container-id-22 {color: black;background-color: white;}#sk-container-id-22 pre{padding: 0;}#sk-container-id-22 div.sk-toggleable {background-color: white;}#sk-container-id-22 label.sk-toggleable__label {cursor: pointer;display: block;width: 100%;margin-bottom: 0;padding: 0.3em;box-sizing: border-box;text-align: center;}#sk-container-id-22 label.sk-toggleable__label-arrow:before {content: \"▸\";float: left;margin-right: 0.25em;color: #696969;}#sk-container-id-22 label.sk-toggleable__label-arrow:hover:before {color: black;}#sk-container-id-22 div.sk-estimator:hover label.sk-toggleable__label-arrow:before {color: black;}#sk-container-id-22 div.sk-toggleable__content {max-height: 0;max-width: 0;overflow: hidden;text-align: left;background-color: #f0f8ff;}#sk-container-id-22 div.sk-toggleable__content pre {margin: 0.2em;color: black;border-radius: 0.25em;background-color: #f0f8ff;}#sk-container-id-22 input.sk-toggleable__control:checked~div.sk-toggleable__content {max-height: 200px;max-width: 100%;overflow: auto;}#sk-container-id-22 input.sk-toggleable__control:checked~label.sk-toggleable__label-arrow:before {content: \"▾\";}#sk-container-id-22 div.sk-estimator input.sk-toggleable__control:checked~label.sk-toggleable__label {background-color: #d4ebff;}#sk-container-id-22 div.sk-label input.sk-toggleable__control:checked~label.sk-toggleable__label {background-color: #d4ebff;}#sk-container-id-22 input.sk-hidden--visually {border: 0;clip: rect(1px 1px 1px 1px);clip: rect(1px, 1px, 1px, 1px);height: 1px;margin: -1px;overflow: hidden;padding: 0;position: absolute;width: 1px;}#sk-container-id-22 div.sk-estimator {font-family: monospace;background-color: #f0f8ff;border: 1px dotted black;border-radius: 0.25em;box-sizing: border-box;margin-bottom: 0.5em;}#sk-container-id-22 div.sk-estimator:hover {background-color: #d4ebff;}#sk-container-id-22 div.sk-parallel-item::after {content: \"\";width: 100%;border-bottom: 1px solid gray;flex-grow: 1;}#sk-container-id-22 div.sk-label:hover label.sk-toggleable__label {background-color: #d4ebff;}#sk-container-id-22 div.sk-serial::before {content: \"\";position: absolute;border-left: 1px solid gray;box-sizing: border-box;top: 0;bottom: 0;left: 50%;z-index: 0;}#sk-container-id-22 div.sk-serial {display: flex;flex-direction: column;align-items: center;background-color: white;padding-right: 0.2em;padding-left: 0.2em;position: relative;}#sk-container-id-22 div.sk-item {position: relative;z-index: 1;}#sk-container-id-22 div.sk-parallel {display: flex;align-items: stretch;justify-content: center;background-color: white;position: relative;}#sk-container-id-22 div.sk-item::before, #sk-container-id-22 div.sk-parallel-item::before {content: \"\";position: absolute;border-left: 1px solid gray;box-sizing: border-box;top: 0;bottom: 0;left: 50%;z-index: -1;}#sk-container-id-22 div.sk-parallel-item {display: flex;flex-direction: column;z-index: 1;position: relative;background-color: white;}#sk-container-id-22 div.sk-parallel-item:first-child::after {align-self: flex-end;width: 50%;}#sk-container-id-22 div.sk-parallel-item:last-child::after {align-self: flex-start;width: 50%;}#sk-container-id-22 div.sk-parallel-item:only-child::after {width: 0;}#sk-container-id-22 div.sk-dashed-wrapped {border: 1px dashed gray;margin: 0 0.4em 0.5em 0.4em;box-sizing: border-box;padding-bottom: 0.4em;background-color: white;}#sk-container-id-22 div.sk-label label {font-family: monospace;font-weight: bold;display: inline-block;line-height: 1.2em;}#sk-container-id-22 div.sk-label-container {text-align: center;}#sk-container-id-22 div.sk-container {/* jupyter's `normalize.less` sets `[hidden] { display: none; }` but bootstrap.min.css set `[hidden] { display: none !important; }` so we also need the `!important` here to be able to override the default hidden behavior on the sphinx rendered scikit-learn.org. See: https://github.com/scikit-learn/scikit-learn/issues/21755 */display: inline-block !important;position: relative;}#sk-container-id-22 div.sk-text-repr-fallback {display: none;}</style><div id=\"sk-container-id-22\" class=\"sk-top-container\"><div class=\"sk-text-repr-fallback\"><pre>SGDRegressor(eta0=0.0001, learning_rate=&#x27;constant&#x27;, max_iter=100)</pre><b>In a Jupyter environment, please rerun this cell to show the HTML representation or trust the notebook. <br />On GitHub, the HTML representation is unable to render, please try loading this page with nbviewer.org.</b></div><div class=\"sk-container\" hidden><div class=\"sk-item\"><div class=\"sk-estimator sk-toggleable\"><input class=\"sk-toggleable__control sk-hidden--visually\" id=\"sk-estimator-id-22\" type=\"checkbox\" checked><label for=\"sk-estimator-id-22\" class=\"sk-toggleable__label sk-toggleable__label-arrow\">SGDRegressor</label><div class=\"sk-toggleable__content\"><pre>SGDRegressor(eta0=0.0001, learning_rate=&#x27;constant&#x27;, max_iter=100)</pre></div></div></div></div></div>"
            ]
          },
          "metadata": {},
          "execution_count": 170
        }
      ]
    },
    {
      "cell_type": "code",
      "source": [
        "precision = model.score(X, y)\n",
        "\n",
        "# Afficher la précision\n",
        "#model.score(X, y) Elle prend en argument les caractéristiques (X) et les étiquettes cibles (y) du jeu de données et retourne le coefficient de détermination\n",
        "#qui mesure à quel point les valeurs prédites du modèle correspondent aux valeurs réelles du jeu de données.\n",
        "# Une valeur proche de 1 indique un bon ajustement du modèle aux données, tandis qu'une valeur proche de 0 indique un ajustement médiocre.\n",
        "print(\"Précision du modèle :\", precision)\n"
      ],
      "metadata": {
        "colab": {
          "base_uri": "https://localhost:8080/"
        },
        "id": "Q3fPtJsaYTam",
        "outputId": "41832fa0-0c07-473d-9a3f-b1719372f2c8"
      },
      "execution_count": 171,
      "outputs": [
        {
          "output_type": "stream",
          "name": "stdout",
          "text": [
            "Précision du modèle : 0.9322694234718804\n"
          ]
        }
      ]
    },
    {
      "cell_type": "code",
      "source": [
        "# Tracé d'un nuage de points pour visualiser la relation entre la première caractéristique (x[:, 0]) et la variable cible (y)\n",
        "plt.scatter(X[:,0],y,marker='o')\n",
        "# Tracé des prédictions du modèle de régression en rouge\n",
        "plt.scatter(X[:,0], model.predict(X), c='red' , marker ='*')\n",
        "\n",
        "\n"
      ],
      "metadata": {
        "colab": {
          "base_uri": "https://localhost:8080/",
          "height": 447
        },
        "id": "kQKnK8xXY_Ue",
        "outputId": "24dac089-d648-477e-b7c3-9115054819a1"
      },
      "execution_count": 176,
      "outputs": [
        {
          "output_type": "execute_result",
          "data": {
            "text/plain": [
              "<matplotlib.collections.PathCollection at 0x7e4b0af14df0>"
            ]
          },
          "metadata": {},
          "execution_count": 176
        },
        {
          "output_type": "display_data",
          "data": {
            "text/plain": [
              "<Figure size 640x480 with 1 Axes>"
            ],
            "image/png": "[encoded data removed]"
          },
          "metadata": {}
        }
      ]
    },
    {
      "cell_type": "code",
      "source": [
        "# Créer une nouvelle instance du modèle avec 1000 itérations et un learning rate de 0.001\n",
        "model_1000 = SGDRegressor(max_iter=10000, learning_rate='constant', eta0=0.001)\n",
        "\n",
        "# Entraîner le modèle sur les données\n",
        "model_1000.fit(X, y)\n",
        "\n",
        "# Faire de nouvelles prédictions avec le nouveau modèle\n",
        "predictions_1000 = model_1000.predict(X)\n",
        "\n",
        "# Tracer les résultats\n",
        "plt.scatter(X[:,0],y,marker='o')\n",
        "plt.scatter(X[:,0], model.predict(X), c='red' , marker ='*')"
      ],
      "metadata": {
        "colab": {
          "base_uri": "https://localhost:8080/",
          "height": 447
        },
        "id": "QlNHAuc9bV7i",
        "outputId": "0d8ba108-fc81-47a4-edf0-780ca5b108f6"
      },
      "execution_count": 182,
      "outputs": [
        {
          "output_type": "execute_result",
          "data": {
            "text/plain": [
              "<matplotlib.collections.PathCollection at 0x7e4b0ab17880>"
            ]
          },
          "metadata": {},
          "execution_count": 182
        },
        {
          "output_type": "display_data",
          "data": {
            "text/plain": [
              "<Figure size 640x480 with 1 Axes>"
            ],
            "image/png": "[encoded data removed]"
          },
          "metadata": {}
        }
      ]
    }
  ]
}